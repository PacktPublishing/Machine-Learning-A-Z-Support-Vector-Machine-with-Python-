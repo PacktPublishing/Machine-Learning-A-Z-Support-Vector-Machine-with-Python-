{
 "cells": [
  {
   "cell_type": "code",
   "execution_count": 18,
   "metadata": {},
   "outputs": [],
   "source": [
    "import pandas as pd\n",
    "import numpy as np\n",
    "from sklearn.model_selection import train_test_split\n",
    "#from sklearn.svm import SVC\n",
    "from sklearn.metrics import accuracy_score\n",
    "from sklearn.preprocessing import StandardScaler\n",
    "from cvxopt import solvers\n",
    "from cvxopt import matrix\n",
    "from scipy.spatial.distance import cdist\n",
    "import scipy as scip\n",
    "import numpy.matlib"
   ]
  },
  {
   "cell_type": "code",
   "execution_count": 19,
   "metadata": {},
   "outputs": [],
   "source": [
    "titanic = pd.read_csv('final_dataset_ready.csv')\n",
    "dataset = titanic.copy()\n",
    "X = np.asarray(dataset.drop('Survived', 1))\n",
    "y = np.asarray(dataset['Survived'])\n",
    "y[y==0] = -1"
   ]
  },
  {
   "cell_type": "code",
   "execution_count": 20,
   "metadata": {},
   "outputs": [],
   "source": [
    "X_train, X_test, y_train, y_test = train_test_split(X, y, test_size=0.2, random_state=0)"
   ]
  },
  {
   "cell_type": "code",
   "execution_count": 21,
   "metadata": {},
   "outputs": [],
   "source": [
    "sc = StandardScaler()\n",
    "X_train = sc.fit_transform(X_train)\n",
    "X_test = sc.transform(X_test)"
   ]
  },
  {
   "cell_type": "code",
   "execution_count": 22,
   "metadata": {},
   "outputs": [],
   "source": [
    "def getRBFKernelMatrix(X1,X2,s):\n",
    "    \n",
    "  # this is an NxD matrix, where N is number of items and D its dimensionalites\n",
    "    #pairwise_sq_dists = squareform(pdist(X, 'sqeuclidean'))\n",
    "    pairwise_sq_dists = cdist(X1, X2, 'sqeuclidean')\n",
    "    K = scip.exp(-pairwise_sq_dists / s**2)\n",
    "    return K"
   ]
  },
  {
   "cell_type": "code",
   "execution_count": 23,
   "metadata": {},
   "outputs": [],
   "source": [
    "s = 0.5\n",
    "C = 1\n",
    "P = getRBFKernelMatrix(X_train,X_train,s)\n",
    "N = X_train.shape[0]\n",
    "q = -1*np.ones((N,1))\n",
    "G = np.diagflat(-1*q)\n",
    "G = np.vstack((G,-1*G))\n",
    "h = np.vstack((C*np.ones((N,1)),np.zeros((N,1))))\n",
    "h = np.squeeze(h)\n",
    "q = np.squeeze(q)\n",
    "A = y_train\n",
    "b = np.array([0])"
   ]
  },
  {
   "cell_type": "code",
   "execution_count": 24,
   "metadata": {},
   "outputs": [],
   "source": [
    "P = matrix(P,tc='d')\n",
    "q = matrix(q,tc='d')\n",
    "G = matrix(G,tc='d')\n",
    "h = matrix(h,tc='d')\n",
    "A = matrix(A,tc='d')\n",
    "b = matrix(b,tc='d')\n",
    "A = np.asarray(A)\n",
    "\n",
    "if A.shape[0] > A.shape[1]:\n",
    "    A = A.T    \n",
    "A = matrix(A,tc='d')"
   ]
  },
  {
   "cell_type": "code",
   "execution_count": 25,
   "metadata": {},
   "outputs": [
    {
     "name": "stdout",
     "output_type": "stream",
     "text": [
      "     pcost       dcost       gap    pres   dres\n",
      " 0: -1.1179e+02 -1.0467e+03  9e+02  1e-14  8e-16\n",
      " 1: -1.1990e+02 -1.7747e+02  6e+01  2e-15  7e-16\n",
      " 2: -1.2502e+02 -1.4014e+02  2e+01  2e-15  4e-16\n",
      " 3: -1.2679e+02 -1.3017e+02  3e+00  2e-15  4e-16\n",
      " 4: -1.2722e+02 -1.2811e+02  9e-01  4e-15  4e-16\n",
      " 5: -1.2733e+02 -1.2759e+02  3e-01  2e-14  5e-16\n",
      " 6: -1.2737e+02 -1.2742e+02  5e-02  1e-14  4e-16\n",
      " 7: -1.2738e+02 -1.2739e+02  2e-02  9e-15  4e-16\n",
      " 8: -1.2738e+02 -1.2738e+02  2e-03  2e-15  4e-16\n",
      " 9: -1.2738e+02 -1.2738e+02  2e-04  1e-14  4e-16\n",
      "10: -1.2738e+02 -1.2738e+02  3e-05  2e-15  4e-16\n",
      "Optimal solution found.\n"
     ]
    }
   ],
   "source": [
    "a = solvers.qp(P, q, G, h, A, b)\n",
    "a = np.asarray(a['x'])"
   ]
  },
  {
   "cell_type": "code",
   "execution_count": 26,
   "metadata": {},
   "outputs": [],
   "source": [
    "idx1 = a>=1e-10\n",
    "idx2 = a<C\n",
    "idx = np.logical_and(idx1,idx2)"
   ]
  },
  {
   "cell_type": "code",
   "execution_count": 27,
   "metadata": {},
   "outputs": [],
   "source": [
    "Xy = X_train.T.dot(np.diagflat(y_train)).T\n",
    "w0 = y_train-np.squeeze(getRBFKernelMatrix(Xy,X_train,s).dot(a))\n",
    "w0 =np.mean(w0[np.squeeze(idx)])\n",
    "yPred = np.sign(getRBFKernelMatrix(X_test,Xy,s).dot(a)+w0)"
   ]
  },
  {
   "cell_type": "code",
   "execution_count": 28,
   "metadata": {},
   "outputs": [
    {
     "name": "stdout",
     "output_type": "stream",
     "text": [
      "72.63\n"
     ]
    }
   ],
   "source": [
    "print(round(accuracy_score(y_test, yPred)*100,2))"
   ]
  },
  {
   "cell_type": "code",
   "execution_count": null,
   "metadata": {},
   "outputs": [],
   "source": []
  }
 ],
 "metadata": {
  "kernelspec": {
   "display_name": "Python 3",
   "language": "python",
   "name": "python3"
  },
  "language_info": {
   "codemirror_mode": {
    "name": "ipython",
    "version": 3
   },
   "file_extension": ".py",
   "mimetype": "text/x-python",
   "name": "python",
   "nbconvert_exporter": "python",
   "pygments_lexer": "ipython3",
   "version": "3.7.0"
  }
 },
 "nbformat": 4,
 "nbformat_minor": 2
}
